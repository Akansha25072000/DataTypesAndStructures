{
  "nbformat": 4,
  "nbformat_minor": 0,
  "metadata": {
    "colab": {
      "provenance": []
    },
    "kernelspec": {
      "name": "python3",
      "display_name": "Python 3"
    },
    "language_info": {
      "name": "python"
    }
  },
  "cells": [
    {
      "cell_type": "code",
      "execution_count": null,
      "metadata": {
        "id": "4Ud8Tndq-yET"
      },
      "outputs": [],
      "source": []
    },
    {
      "cell_type": "markdown",
      "source": [
        "1.What are data structures, and why are they important?\n",
        "\n",
        "Answer:\n",
        "Data structures are ways to store and organize data so that we can use it efficiently. Examples include lists, sets, tuples, and dictionaries.\n",
        "Data structures are important because they provide efficient ways to organize, store, and manage data for different types of operations.\n",
        "They help us write better programs.\n",
        "They are the backbone of efficient programming. Choosing the right one can drastically improve performance, maintainability, and scalability of our applications.\n",
        "\n",
        "2.Difference between mutable and immutable data types (with examples)?\n",
        "\n",
        "Answer:\n",
        "Mutable means the data can be changed (e.g., list).\n",
        "Immutable means it cannot be changed (e.g., tuple, string).\n",
        "\n",
        "my_list = [1, 2, 3]\n",
        "my_list[0] = 10  # Mutable\n",
        "\n",
        "my_tuple = (1, 2, 3)\n",
        "# my_tuple[0] = 10  # This will give an error: Immutable\n",
        "\n",
        "\n",
        "3.Main differences between lists and tuples in Python?\n",
        "Answer:\n",
        "1. Mutability\n",
        "List: Mutable, we can change, add, or remove elements.\n",
        "\n",
        "Tuple: Immutable once created, elements cannot be changed.\n",
        "\n",
        "# List example (mutable)\n",
        "my_list = [1, 2, 3]\n",
        "my_list.append(4)  # Works fine\n",
        "\n",
        "# Tuple example (immutable)\n",
        "my_tuple = (1, 2, 3)\n",
        "my_tuple[0] = 0    # Raises TypeError\n",
        "\n",
        "2. Performance\n",
        "Tuples are slightly faster than lists because of their immutability and fixed size.\n",
        "They're more memory-efficient.\n",
        "\n",
        "3. Safety\n",
        "we use tuples when we want to protect data from being changed.\n",
        "Ideal for constants or function return values where data shouldn't be modified.\n",
        "\n",
        "4. Syntax\n",
        "List: Uses square brackets []\n",
        "Tuple: Uses parentheses ()\n",
        "\n",
        "list_example = [1, 2, 3]\n",
        "tuple_example = (1, 2, 3)\n",
        "Note: A single-element tuple must include a comma, like (1,), or it’s not a tuple.\n",
        "\n",
        "5. Use in Dictionaries (as Keys)\n",
        "Tuples can be used as keys in dictionaries (because they’re immutable).\n",
        "Lists cannot.\n",
        "\n",
        "my_dict = {(1, 2): \"tuple key\"}  # Valid\n",
        "my_dict = {[1, 2]: \"list key\"}   # TypeError\n",
        "\n",
        "\n",
        "4.Describe how do dictionaries store data?\n",
        "Answer:\n",
        "Dictionaries store data in key-value pairs, like a real dictionary (word: meaning).\n",
        "\n",
        "my_dict = {\"name\": \"Akansha\", \"age\": 24}\n",
        "\n",
        "\n",
        "5.Why might you use a set instead of a list in Python?\n",
        "Answer:\n",
        "Use a set when we want unique values and don’t care about the order.\n",
        "\n",
        "my_set = {1, 2, 2, 3}  # Output: {1, 2, 3}\n",
        "\n",
        "\n",
        "6.What is a string in Python, and how is it different from a list?\n",
        "Answer:\n",
        "A string is a sequence of characters.\n",
        "A list can contain any data type.\n",
        "\n",
        "name = \"Akansha\"        # String\n",
        "items = [\"Akansha\", 25] # List\n",
        "\n",
        "\n",
        "7.How do tuples ensure data integrity in Python?\n",
        "Answer:\n",
        "Since tuples are immutable, the data inside them can’t be changed. This helps keep data safe.\n",
        "1. Immutability\n",
        "Once a tuple is created, its contents cannot be changed (no add, remove, or modify).\n",
        "This protects the data from accidental or unauthorized modification.\n",
        "\n",
        "2. Safe as Dictionary Keys or Set Elements\n",
        "Because they’re immutable, tuples can be used as keys in dictionaries or elements in sets, which require hashable types.\n",
        "\n",
        "3. Semantic Intention: \"This data shouldn't change\"\n",
        "Using a tuple signals to other developers that the data is meant to remain constant.\n",
        "\n",
        "4. Fewer Bugs, Better Optimization\n",
        "Immutable objects are:\n",
        "Easier to debug (less chance of silent changes).\n",
        "Thread-safe (no race conditions from concurrent modifications).\n",
        "Optimized by Python internally (since the data won’t change).\n",
        "\n",
        "\n",
        "8.What is a hash table, and how does it relate to dictionaries in Python?\n",
        "Answer:\n",
        "A dictionary uses a hash table to store and quickly access values using keys.\n",
        "In Python, a dict is implemented using a hash table under the hood.\n",
        "\n",
        "fruit_prices = {\"apple\": 2.99, \"banana\": 1.49}\n",
        "\n",
        "\"apple\" is hashed → stored at a specific index internally.\n",
        "When you look up fruit_prices[\"apple\"], Python uses hashing to instantly locate the value.\n",
        "\n",
        "\n",
        "9.Can lists contain different data types in Python?\n",
        "Answer:\n",
        "Yes. A list can have strings, numbers, or even other lists.\n",
        "\n",
        "mixed_list = [\"hello\", 5, 3.14, [1, 2]]\n",
        "\n",
        "\n",
        "10.Why are strings immutable in Python?\n",
        "Answer:\n",
        "Strings are immutable for performance and security reasons. Changing a string creates a new one.\n",
        "\n",
        "1. Data Integrity and Safety\n",
        "Since strings can’t be altered, they are safe to use as constants or keys in data structures (like dictionaries and sets).\n",
        "This immutability prevents bugs that could arise from unintentional modifications.\n",
        "\n",
        "2. Performance Optimization\n",
        "Immutability allows Python to reuse string objects internally (string interning), saving memory and speeding up comparisons.\n",
        "\n",
        "3. Thread-Safety\n",
        "Because strings can’t be changed, they are inherently thread-safe. Multiple threads can use the same string without risk of conflicts.\n",
        "\n",
        "4. Hashability\n",
        "Immutable objects are hashable, so strings can be used as keys in dictionaries and elements in sets.\n",
        "\n",
        "5. Predictable Behavior\n",
        "When we pass a string to a function, we know it won’t be altered inside that function. This leads to fewer side effects and makes code easier to debug.\n",
        "\n",
        "\n",
        "11.Advantages of dictionaries over lists?\n",
        "Answer:\n",
        "Dictionaries give faster access when you know the key. Lists require searching.\n",
        "\n",
        "1. Faster Lookups (O(1) vs. O(n))\n",
        "Dictionaries provide constant-time access to values using keys.\n",
        "Lists require linear search to find an item by value or by matching criteria.\n",
        "\n",
        "2. Key-Value Mapping\n",
        "Dictionaries let us associate meaningful keys with values (e.g., names to grades).\n",
        "Lists only use numeric indices, which are less intuitive and less descriptive.\n",
        "\n",
        "3. No Need to Remember Index Positions\n",
        "In a dictionary, we can retrieve data by key, not by remembering a specific index.\n",
        "\n",
        "4. Flexible Data Organization\n",
        "Dictionaries naturally handle non-sequential, complex, or nested data.\n",
        "Useful for representing objects, configurations, or database rows.\n",
        "\n",
        "5. Easier Updates and Inserts\n",
        "Adding or updating entries in a dictionary is simple and fast.\n",
        "Lists require more effort to search and modify items.\n",
        "\n",
        "\n",
        "12.When to use a tuple instead of a list?\n",
        "Answer:\n",
        "Use tuples when the data should not change, like coordinates or months of the year.\n",
        "\n",
        "1. When We Want to Ensure Immutability\n",
        "Tuples are immutable — once created, they cannot be changed.\n",
        "Ideal for protecting data from accidental modification.\n",
        "\n",
        "2. When Using as a Dictionary Key or Set Element\n",
        "Only immutable and hashable objects can be used as dictionary keys or set elements.\n",
        "Lists are mutable and unhashable, so you can't use them for that purpose.\n",
        "\n",
        "3. For Better Performance\n",
        "Tuples are faster and use less memory than lists.\n",
        "Useful in large-scale or performance-critical applications.\n",
        "\n",
        "4. To Represent Fixed Structured Records\n",
        "Use tuples to represent a fixed collection of fields.\n",
        "Like a lightweight alternative to a class or a record.\n",
        "\n",
        "5. When We Don’t Need to Modify the Data\n",
        "If we won’t need to append(), remove(), or sort() the items, a tuple is a safer, clearer choice.\n",
        "\n",
        "6. Semantic Clarity\n",
        "Using a tuple signals: “This group of values should not change.”\n",
        "It improves code readability and intent.\n",
        "\n",
        "\n",
        "13.How do sets handle duplicate values in Python?\n",
        "Answer:\n",
        "Sets automatically remove duplicates.\n",
        "\n",
        "s = {1, 2, 2, 3}\n",
        "print(s)  # {1, 2, 3}\n",
        "\n",
        "\n",
        "14.How does the “in” keyword work differently in lists and dictionaries?\n",
        "Answer:\n",
        "In a list: checks values.\n",
        "In a dictionary: checks keys.\n",
        "\n",
        "In a List\n",
        "The in keyword checks whether a value exists as an element in the list.\n",
        "Python searches the list sequentially (linear search).\n",
        "\n",
        "fruits = [\"apple\", \"banana\", \"cherry\"]\n",
        "print(\"banana\" in fruits)  # True\n",
        "print(\"grape\" in fruits)   # False\n",
        "Performance:\n",
        "O(n) time complexity (slower for large lists).\n",
        "\n",
        "In a Dictionary\n",
        "The in keyword checks whether a key exists in the dictionary not the value.\n",
        "\n",
        "prices = {\"apple\": 1.5, \"banana\": 0.99}\n",
        "print(\"apple\" in prices)   # True (checks keys)\n",
        "print(1.5 in prices)       # False (values aren't checked)\n",
        "To check values in a dictionary, use:\n",
        "1.5 in prices.values()     # True\n",
        "Performance:\n",
        "O(1) average-case time complexity thanks to the hash table implementation.\n",
        "\n",
        "\n",
        "15.Can you modify the elements of a tuple? Why or why not?\n",
        "Answer:\n",
        "No. Tuples are immutable, so we can’t change their elements.\n",
        "Why We Can’t Modify Tuple Elements\n",
        "Tuples are designed to be fixed and unchangeable.\n",
        "Immutability:\n",
        "Ensures data integrity.\n",
        "Makes tuples hashable (so they can be used as dictionary keys and set elements).\n",
        "Leads to faster and more memory-efficient behavior compared to mutable structures like lists.\n",
        "\n",
        "Tuples themselves are immutable, but they can contain mutable objects (like lists or dictionaries). We can modify those inner objects, but not the tuple structure.\n",
        "\n",
        "\n",
        "16.What is a nested dictionary? Give an example.\n",
        "Answer:\n",
        "A dictionary inside another dictionary is a nested dictionary.\n",
        "\n",
        "student = {\n",
        "    \"name\": \"Akansha\",\n",
        "    \"marks\": {\"Math\": 90, \"English\": 85}\n",
        "}\n",
        "\n",
        "\n",
        "17.Time complexity of accessing elements in a dictionary?\n",
        "Answer:\n",
        "Accessing a value using a key is O(1) (very fast).\n",
        "Accessing an element by key in a Python dictionary is O(1), which means constant time.\n",
        "This is because Python dictionaries use a hash table internally.\n",
        "How it works:\n",
        "When we access dict[key], Python:\n",
        "Computes the hash of the key.\n",
        "Uses that hash to find the index in an internal array.\n",
        "Retrieves the value directly from that location.\n",
        "Worst case:\n",
        "In rare situations, when many keys hash to the same index (hash collisions), the time complexity can degrade to O(n), where n is the number of items in the dictionary.\n",
        "However, Python uses strategies like open addressing to minimize collisions, so this case is uncommon.\n",
        "\n",
        "\n",
        "18.In what situations are lists preferred over dictionaries?\n",
        "Answer:\n",
        "Lists are preferred over dictionaries when:\n",
        "We need to maintain a specific sequence of items.\n",
        "We access elements by position (index): Like looping through items in order or accessing the 3rd element.\n",
        "Data is homogeneous or simple: Just a collection of similar items without the need for key-value pairs.\n",
        "Memory efficiency:Lists usually use less memory for simple sequences.\n",
        "We need to perform operations like sorting or slicing: Which are natural and easy with lists.\n",
        "\n",
        "\n",
        "19.Why are dictionaries unordered, and how does that affect retrieval?\n",
        "Answer:\n",
        "Dictionaries were unordered before Python 3.7.\n",
        "Now they maintain insertion order.\n",
        "Retrieval is still fast using keys.\n",
        "\n",
        "\n",
        "20.Difference between a list and dictionary in data retrieval?\n",
        "Answer:\n",
        "List: You get data by position (index). To find an item by value, Python checks one by one (slower).\n",
        "\n",
        "Dictionary: You get data by a key (like a label). It finds the item fast using the key.\n",
        "\n",
        "So, dictionaries are faster for looking up data by key, while lists are good for ordered data accessed by position.\n",
        "\n"
      ],
      "metadata": {
        "id": "t0WI0khu-9a9"
      }
    },
    {
      "cell_type": "code",
      "source": [
        "#1. Write a code to create a string with your name and print it\n",
        "name = \"Akansha Bhatnagar\"\n",
        "print(name)"
      ],
      "metadata": {
        "id": "-bTKUSbQaCPT"
      },
      "execution_count": null,
      "outputs": []
    },
    {
      "cell_type": "code",
      "source": [
        "#2. Write a code to find the length of the string \"Hello World\"\n",
        "s = \"Hello World\"\n",
        "print(len(s))"
      ],
      "metadata": {
        "id": "d_lze1pseOP2"
      },
      "execution_count": null,
      "outputs": []
    },
    {
      "cell_type": "code",
      "source": [
        "#3. Write a code to slice the first 3 characters from the string \"Python Programming\"\n",
        "text = \"Python Programming\"\n",
        "print(text[:3])"
      ],
      "metadata": {
        "id": "NcIbedQeeyAw"
      },
      "execution_count": null,
      "outputs": []
    },
    {
      "cell_type": "code",
      "source": [
        "#4. Write a code to convert the string \"hello\" to uppercase\n",
        "s = \"hello\"\n",
        "print(s.upper())"
      ],
      "metadata": {
        "id": "yMbdNmtCfDb-"
      },
      "execution_count": null,
      "outputs": []
    },
    {
      "cell_type": "code",
      "source": [
        "#5. Write a code to replace the word \"apple\" with \"orange\" in the string \"I like apple\"\n",
        "text = \"I like apple\"\n",
        "new_text = text.replace(\"apple\", \"orange\")\n",
        "print(new_text)"
      ],
      "metadata": {
        "id": "XN9QjhuffLuC"
      },
      "execution_count": null,
      "outputs": []
    },
    {
      "cell_type": "code",
      "source": [
        "#6. Write a code to create a list with numbers 1 to 5 and print it\n",
        "numbers = [1, 2, 3, 4, 5]\n",
        "print(numbers)"
      ],
      "metadata": {
        "id": "FLdFWmJBfarQ"
      },
      "execution_count": null,
      "outputs": []
    },
    {
      "cell_type": "code",
      "source": [
        "#7.  Write a code to append the number 10 to the list [1, 2, 3, 4]\n",
        "lst = [1, 2, 3, 4]\n",
        "lst.append(10)\n",
        "print(lst)"
      ],
      "metadata": {
        "id": "U9wtd48MfkDs"
      },
      "execution_count": null,
      "outputs": []
    },
    {
      "cell_type": "code",
      "source": [
        "#8. Write a code to remove the number 3 from the list [1, 2, 3, 4, 5]\n",
        "lst = [1, 2, 3, 4, 5]\n",
        "lst.remove(3)\n",
        "print(lst)"
      ],
      "metadata": {
        "id": "m783ZnORf2By"
      },
      "execution_count": null,
      "outputs": []
    },
    {
      "cell_type": "code",
      "source": [
        "#9. Write a code to access the second element in the list ['a', 'b', 'c', 'd']\n",
        "my_list = ['a', 'b', 'c', 'd']\n",
        "second_element = my_list[1]\n",
        "print(second_element)\n"
      ],
      "metadata": {
        "id": "cJ6Tobh7f-YZ"
      },
      "execution_count": null,
      "outputs": []
    },
    {
      "cell_type": "code",
      "source": [
        "#10. Write a code to reverse the list [10, 20, 30, 40, 50]\n",
        "lst = [10, 20, 30, 40, 50]\n",
        "lst.reverse()\n",
        "print(lst)"
      ],
      "metadata": {
        "id": "usS9EDk6gQh8"
      },
      "execution_count": null,
      "outputs": []
    },
    {
      "cell_type": "code",
      "source": [
        "#11. Write a code to create a tuple with the elements 100, 200, 300 and print it\n",
        "my_tuple = (100, 200, 300)\n",
        "print(my_tuple)"
      ],
      "metadata": {
        "id": "HZWu7hTUgaES"
      },
      "execution_count": null,
      "outputs": []
    },
    {
      "cell_type": "code",
      "source": [
        "#12. Write a code to access the second-to-last element of the tuple ('red', 'green', 'blue', 'yellow')\n",
        "colors = ('red', 'green', 'blue', 'yellow')\n",
        "print(colors[-2])"
      ],
      "metadata": {
        "id": "kyBPD2LcgmGq"
      },
      "execution_count": null,
      "outputs": []
    },
    {
      "cell_type": "code",
      "source": [
        "#13. Write a code to find the minimum number in the tuple (10, 20, 5, 15).\n",
        "nums = (10, 20, 5, 15)\n",
        "print(min(nums))"
      ],
      "metadata": {
        "id": "pZz7JaYCgvti"
      },
      "execution_count": null,
      "outputs": []
    },
    {
      "cell_type": "code",
      "source": [
        "#14. Write a code to find the index of the element \"cat\" in the tuple ('dog', 'cat', 'rabbit')\n",
        "animals = ('dog', 'cat', 'rabbit')\n",
        "print(animals.index('cat'))"
      ],
      "metadata": {
        "id": "QWtSvdTKg4XF"
      },
      "execution_count": null,
      "outputs": []
    },
    {
      "cell_type": "code",
      "source": [
        "#15.  Write a code to create a tuple containing three different fruits and check if \"kiwi\" is in it\n",
        "fruits = ('apple', 'banana', 'kiwi')\n",
        "print('kiwi' in fruits)"
      ],
      "metadata": {
        "id": "DPgtk_4MhDqK"
      },
      "execution_count": null,
      "outputs": []
    },
    {
      "cell_type": "code",
      "source": [
        "#16.  Write a code to create a set with the elements 'a', 'b', 'c' and print it\n",
        "s = {'a', 'b', 'c'}\n",
        "print(s)"
      ],
      "metadata": {
        "id": "2o_IKxTNkdWh"
      },
      "execution_count": null,
      "outputs": []
    },
    {
      "cell_type": "code",
      "source": [
        "#17. Write a code to clear all elements from the set {1, 2, 3, 4, 5}\n",
        "s = {1, 2, 3, 4, 5}\n",
        "s.clear()\n",
        "print(s)"
      ],
      "metadata": {
        "id": "2Wxa0xz2kmh9"
      },
      "execution_count": null,
      "outputs": []
    },
    {
      "cell_type": "code",
      "source": [
        "#18.  Write a code to remove the element 4 from the set {1, 2, 3, 4}\n",
        "s = {1, 2, 3, 4}\n",
        "s.remove(4)\n",
        "print(s)"
      ],
      "metadata": {
        "id": "o3dHlYm7kwY2"
      },
      "execution_count": null,
      "outputs": []
    },
    {
      "cell_type": "code",
      "source": [
        "#19.  Write a code to find the union of two sets {1, 2, 3} and {3, 4, 5}\n",
        "a = {1, 2, 3}\n",
        "b = {3, 4, 5}\n",
        "print(a.union(b))"
      ],
      "metadata": {
        "id": "PbS0Ze6gk4Ns"
      },
      "execution_count": null,
      "outputs": []
    },
    {
      "cell_type": "code",
      "source": [
        "#20.  Write a code to find the intersection of two sets {1, 2, 3} and {2, 3, 4}\n",
        "a = {1, 2, 3}\n",
        "b = {2, 3, 4}\n",
        "print(a.intersection(b))"
      ],
      "metadata": {
        "id": "crKzjilylBNa"
      },
      "execution_count": null,
      "outputs": []
    },
    {
      "cell_type": "code",
      "source": [
        "#21. Write a code to create a dictionary with the keys \"name\", \"age\", and \"city\", and print it\n",
        "person = {\n",
        "    \"name\": \"Akansha\",\n",
        "    \"age\": 24,\n",
        "    \"city\": \"Mumbai\"\n",
        "}\n",
        "print(person)"
      ],
      "metadata": {
        "id": "puoLZjuSlLl5"
      },
      "execution_count": null,
      "outputs": []
    },
    {
      "cell_type": "code",
      "source": [
        "#22.  Write a code to add a new key-value pair \"country\": \"USA\" to the dictionary {'name': 'John', 'age': 25}\n",
        "person = {'name': 'John', 'age': 25}\n",
        "person['country'] = 'USA'\n",
        "print(person)\n"
      ],
      "metadata": {
        "id": "GAHk7AZTlaip"
      },
      "execution_count": null,
      "outputs": []
    },
    {
      "cell_type": "code",
      "source": [
        "#23. Write a code to access the value associated with the key \"name\" in the dictionary {'name': 'Alice', 'age': 30}\n",
        "person = {'name': 'Alice', 'age': 30}\n",
        "print(person['name'])"
      ],
      "metadata": {
        "id": "mg2UXi3hlj57"
      },
      "execution_count": null,
      "outputs": []
    },
    {
      "cell_type": "code",
      "source": [
        "#24. Write a code to remove the key \"age\" from the dictionary {'name': 'Bob', 'age': 22, 'city': 'New York'}\n",
        "person = {'name': 'Bob', 'age': 22, 'city': 'New York'}\n",
        "del person['age']\n",
        "print(person)"
      ],
      "metadata": {
        "id": "AmiC-H6-lpZ8"
      },
      "execution_count": null,
      "outputs": []
    },
    {
      "cell_type": "code",
      "source": [
        "#25.  Write a code to check if the key \"city\" exists in the dictionary {'name': 'Alice', 'city': 'Paris'}\n",
        "person = {'name': 'Alice', 'city': 'Paris'}\n",
        "print('city' in person)"
      ],
      "metadata": {
        "id": "4J4jF6PElt_S"
      },
      "execution_count": null,
      "outputs": []
    },
    {
      "cell_type": "code",
      "source": [
        "#26. Write a code to create a list, a tuple, and a dictionary, and print them all\n",
        "my_list = [1, 2, 3]\n",
        "my_tuple = (4, 5, 6)\n",
        "my_dict = {'a': 1, 'b': 2, 'c': 3}"
      ],
      "metadata": {
        "id": "yZExowrwlzZ3"
      },
      "execution_count": null,
      "outputs": []
    },
    {
      "cell_type": "code",
      "source": [
        "#27. Write a code to create a list of 5 random numbers between 1 and 100, sort it in ascending order, and print result\n",
        "import random\n",
        "numbers = [random.randint(1, 100) for _ in range(5)]\n",
        "numbers.sort()\n",
        "print(numbers)\n"
      ],
      "metadata": {
        "id": "k1gt8D_rl5Eq"
      },
      "execution_count": null,
      "outputs": []
    },
    {
      "cell_type": "code",
      "source": [
        "#28. Write a code to create a list with strings and print the element at the third index\n",
        "my_list = [\"apple\", \"banana\", \"cherry\", \"date\", \"elderberry\"]\n",
        "print(my_list[2])"
      ],
      "metadata": {
        "id": "9Oggb6MVmILT"
      },
      "execution_count": null,
      "outputs": []
    },
    {
      "cell_type": "code",
      "source": [
        "#29. Write a code to combine two dictionaries into one and print the result\n",
        "dict1 = {'a': 1, 'b': 2}\n",
        "dict2 = {'c': 3, 'd': 4}\n",
        "combined_dict = {**dict1, **dict2}\n",
        "print(combined_dict)"
      ],
      "metadata": {
        "id": "mF0CqZ_5mQEC"
      },
      "execution_count": null,
      "outputs": []
    },
    {
      "cell_type": "code",
      "source": [
        "#30.  Write a code to convert a list of strings into a set\n",
        "my_list = [\"apple\", \"banana\", \"cherry\", \"apple\", \"banana\"]\n",
        "my_set = set(my_list)\n",
        "print(my_set)"
      ],
      "metadata": {
        "id": "K7C-D8ZgmVVC"
      },
      "execution_count": null,
      "outputs": []
    },
    {
      "cell_type": "markdown",
      "source": [],
      "metadata": {
        "id": "zoK7NwnIFq6O"
      }
    }
  ]
}